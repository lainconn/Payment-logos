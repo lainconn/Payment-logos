{
 "cells": [
  {
   "cell_type": "code",
   "execution_count": 89,
   "metadata": {},
   "outputs": [],
   "source": [
    "import pandas as pd\n",
    "from collections import Counter\n",
    "import numpy as np\n",
    "import torch\n",
    "from torch import nn\n",
    "from torch.utils.data import Dataset, DataLoader\n",
    "from transformers import TrOCRProcessor, VisionEncoderDecoderModel, AdamW\n",
    "from transformers.modeling_outputs import SequenceClassifierOutput\n",
    "from PIL import Image\n",
    "from tqdm.notebook import tqdm\n",
    "import evaluate\n",
    "import ast\n",
    "import sklearn"
   ]
  },
  {
   "cell_type": "code",
   "execution_count": 2,
   "metadata": {},
   "outputs": [],
   "source": [
    "TRAIN_CSV = \"D:\\\\Projects\\\\Priorbank\\\\Payment-logos\\\\For testing\\\\train_data.csv\"\n",
    "IMAGE_DIR = \"D:\\\\Projects\\\\Priorbank\\\\Payment-logos\\\\For testing\\\\Train\\\\\"\n",
    "PROCESSOR_PATH = \"microsoft/trocr-base-handwritten\"\n",
    "BATCH_SIZE = 10\n",
    "NUM_CLASSES = 4"
   ]
  },
  {
   "cell_type": "code",
   "execution_count": 68,
   "metadata": {},
   "outputs": [
    {
     "data": {
      "text/html": [
       "<div>\n",
       "<style scoped>\n",
       "    .dataframe tbody tr th:only-of-type {\n",
       "        vertical-align: middle;\n",
       "    }\n",
       "\n",
       "    .dataframe tbody tr th {\n",
       "        vertical-align: top;\n",
       "    }\n",
       "\n",
       "    .dataframe thead th {\n",
       "        text-align: right;\n",
       "    }\n",
       "</style>\n",
       "<table border=\"1\" class=\"dataframe\">\n",
       "  <thead>\n",
       "    <tr style=\"text-align: right;\">\n",
       "      <th></th>\n",
       "      <th>file_name</th>\n",
       "      <th>text</th>\n",
       "      <th>labels</th>\n",
       "    </tr>\n",
       "  </thead>\n",
       "  <tbody>\n",
       "    <tr>\n",
       "      <th>0</th>\n",
       "      <td>Belkart_0.jpg</td>\n",
       "      <td>Belkart</td>\n",
       "      <td>[0,0,1,0]</td>\n",
       "    </tr>\n",
       "    <tr>\n",
       "      <th>1</th>\n",
       "      <td>Belkart_1.jpg</td>\n",
       "      <td>Belkart</td>\n",
       "      <td>[0,0,1,0]</td>\n",
       "    </tr>\n",
       "    <tr>\n",
       "      <th>2</th>\n",
       "      <td>Belkart_1_0.png</td>\n",
       "      <td>Belkart</td>\n",
       "      <td>[0,0,1,0]</td>\n",
       "    </tr>\n",
       "    <tr>\n",
       "      <th>3</th>\n",
       "      <td>Belkart_1_1.png</td>\n",
       "      <td>Belkart</td>\n",
       "      <td>[0,0,1,0]</td>\n",
       "    </tr>\n",
       "    <tr>\n",
       "      <th>4</th>\n",
       "      <td>Belkart_1_10.png</td>\n",
       "      <td>Belkart</td>\n",
       "      <td>[0,0,1,0]</td>\n",
       "    </tr>\n",
       "  </tbody>\n",
       "</table>\n",
       "</div>"
      ],
      "text/plain": [
       "          file_name     text     labels\n",
       "0     Belkart_0.jpg  Belkart  [0,0,1,0]\n",
       "1     Belkart_1.jpg  Belkart  [0,0,1,0]\n",
       "2   Belkart_1_0.png  Belkart  [0,0,1,0]\n",
       "3   Belkart_1_1.png  Belkart  [0,0,1,0]\n",
       "4  Belkart_1_10.png  Belkart  [0,0,1,0]"
      ]
     },
     "execution_count": 68,
     "metadata": {},
     "output_type": "execute_result"
    }
   ],
   "source": [
    "df = pd.read_csv(TRAIN_CSV)\n",
    "df.head()"
   ]
  },
  {
   "cell_type": "code",
   "execution_count": 69,
   "metadata": {},
   "outputs": [
    {
     "name": "stdout",
     "output_type": "stream",
     "text": [
      "Unique values for Train: {'Belkart': 216, 'Mastercard': 213, 'Mir Belkart': 201, 'Mir': 202, 'Visa Mastercard Belkart': 101, 'Visa Mastercard Mir': 226, 'Visa': 213}\n",
      "Unique values for Validation: {'Visa Mastercard Mir': 101, 'Visa Mastercard': 100, 'Visa Mastercard Belkart': 100}\n"
     ]
    }
   ],
   "source": [
    "train_df = df[~df.file_name.str.startswith(\"Validation\")]\n",
    "train_df.reset_index(drop=True,inplace=True)\n",
    "\n",
    "val_df = df[df.file_name.str.startswith(\"Validation\")]\n",
    "val_df.reset_index(drop=True,inplace=True)\n",
    "\n",
    "print(\"Unique values for Train: \" + str({**Counter(train_df.text)}))\n",
    "print(\"Unique values for Validation: \" + str({**Counter(val_df.text)}))"
   ]
  },
  {
   "cell_type": "code",
   "execution_count": 70,
   "metadata": {},
   "outputs": [],
   "source": [
    "train_df.loc[:, \"labels\"] = train_df.labels.apply(ast.literal_eval)\n",
    "train_df.loc[:, \"labels\"] = train_df.labels.apply(np.float32)\n",
    "\n",
    "val_df.loc[:, \"labels\"] = val_df.labels.apply(ast.literal_eval)\n",
    "val_df.loc[:, \"labels\"] = val_df.labels.apply(np.float32)"
   ]
  },
  {
   "cell_type": "code",
   "execution_count": 4,
   "metadata": {},
   "outputs": [
    {
     "name": "stdout",
     "output_type": "stream",
     "text": [
      "Unique values for Train: {'Visa Mastercard Mir': 240, 'Visa': 99, 'Mir': 79, 'Mastercard': 83}\n",
      "Unique values for Validation: {'Visa Mastercard Mir': 61, 'Mir': 22, 'Mastercard': 19, 'Visa': 24}\n"
     ]
    }
   ],
   "source": [
    "\"\"\" np.random.seed(11)\n",
    "\n",
    "train_df, val_df = train_test_split(df, test_size=0.2, shuffle=True)\n",
    "train_df.reset_index(drop=True,inplace=True)\n",
    "val_df.reset_index(drop=True,inplace=True)\n",
    "\n",
    "print(\"Unique values for Train: \" + str({**Counter(train_df.text)}))\n",
    "print(\"Unique values for Validation: \" + str({**Counter(val_df.text)})) \"\"\""
   ]
  },
  {
   "cell_type": "code",
   "execution_count": 73,
   "metadata": {},
   "outputs": [],
   "source": [
    "class Loader(Dataset):\n",
    "    def __init__(self, data_dir, df, processor, max_length=10):\n",
    "        super().__init__()\n",
    "        self.data_dir = data_dir\n",
    "        self.df = df\n",
    "        self.max_length = max_length\n",
    "        self.processor = processor\n",
    "\n",
    "    def __len__(self):\n",
    "        return len(self.df)\n",
    "\n",
    "    def __getitem__(self, index):\n",
    "        file_name = self.df[\"file_name\"][index]\n",
    "        text = self.df[\"text\"][index]\n",
    "        labels = self.df[\"labels\"][index]\n",
    "        image = Image.open(self.data_dir + file_name).convert(\"RGB\")\n",
    "        pixel_values = self.processor(image, return_tensors=\"pt\").pixel_values\n",
    "        text = self.processor.tokenizer(text,\n",
    "                                          padding=\"max_length\",\n",
    "                                          max_length=self.max_length).input_ids\n",
    "        text = [token if token != self.processor.tokenizer.pad_token_id else -100 for token in text]\n",
    "        \n",
    "        return {\"pixel_values\": pixel_values.squeeze(), \n",
    "                \"text\": torch.tensor(text),\n",
    "                \"labels\": torch.tensor(labels)}"
   ]
  },
  {
   "cell_type": "code",
   "execution_count": 74,
   "metadata": {},
   "outputs": [
    {
     "name": "stderr",
     "output_type": "stream",
     "text": [
      "c:\\Users\\playf\\AppData\\Local\\Programs\\Python\\Python312\\Lib\\site-packages\\transformers\\tokenization_utils_base.py:1601: FutureWarning: `clean_up_tokenization_spaces` was not set. It will be set to `True` by default. This behavior will be depracted in transformers v4.45, and will be then set to `False` by default. For more details check this issue: https://github.com/huggingface/transformers/issues/31884\n",
      "  warnings.warn(\n"
     ]
    }
   ],
   "source": [
    "processor = TrOCRProcessor.from_pretrained(PROCESSOR_PATH)\n",
    "\n",
    "train_dataset = Loader(data_dir=IMAGE_DIR, df=train_df,\n",
    "                       processor=processor)\n",
    "val_dataset = Loader(data_dir=IMAGE_DIR, df=val_df,\n",
    "                      processor=processor)"
   ]
  },
  {
   "cell_type": "code",
   "execution_count": 75,
   "metadata": {},
   "outputs": [],
   "source": [
    "train_dataloader = DataLoader(train_dataset, batch_size=BATCH_SIZE, shuffle=True)\n",
    "eval_dataloader = DataLoader(val_dataset, batch_size=BATCH_SIZE)"
   ]
  },
  {
   "cell_type": "code",
   "execution_count": 76,
   "metadata": {},
   "outputs": [
    {
     "name": "stderr",
     "output_type": "stream",
     "text": [
      "Some weights of VisionEncoderDecoderModel were not initialized from the model checkpoint at microsoft/trocr-base-handwritten and are newly initialized: ['encoder.pooler.dense.bias', 'encoder.pooler.dense.weight']\n",
      "You should probably TRAIN this model on a down-stream task to be able to use it for predictions and inference.\n"
     ]
    }
   ],
   "source": [
    "TrOCR_model = VisionEncoderDecoderModel.from_pretrained(PROCESSOR_PATH)\n",
    "\n",
    "TrOCR_model.config.encoder.encoder_stride = 16\n",
    "TrOCR_model.config.encoder.patch_size = 16\n",
    "TrOCR_model.config.decoder_start_token_id = processor.tokenizer.cls_token_id\n",
    "TrOCR_model.config.pad_token_id = processor.tokenizer.pad_token_id\n",
    "TrOCR_model.config.vocab_size = TrOCR_model.config.decoder.vocab_size\n",
    "\n",
    "TrOCR_model.config.eos_token_id = processor.tokenizer.sep_token_id\n",
    "TrOCR_model.config.max_length = 64\n",
    "TrOCR_model.config.early_stopping = True\n",
    "TrOCR_model.config.no_repeat_ngram_size = 3\n",
    "TrOCR_model.config.length_penalty = 2.0\n",
    "TrOCR_model.config.num_beams = 4"
   ]
  },
  {
   "cell_type": "code",
   "execution_count": 37,
   "metadata": {},
   "outputs": [
    {
     "name": "stderr",
     "output_type": "stream",
     "text": [
      "C:\\Users\\playf\\AppData\\Local\\Temp\\ipykernel_24704\\3455238129.py:1: FutureWarning: You are using `torch.load` with `weights_only=False` (the current default value), which uses the default pickle module implicitly. It is possible to construct malicious pickle data which will execute arbitrary code during unpickling (See https://github.com/pytorch/pytorch/blob/main/SECURITY.md#untrusted-models for more details). In a future release, the default value for `weights_only` will be flipped to `True`. This limits the functions that could be executed during unpickling. Arbitrary objects will no longer be allowed to be loaded via this mode unless they are explicitly allowlisted by the user via `torch.serialization.add_safe_globals`. We recommend you start setting `weights_only=True` for any use case where you don't have full control of the loaded file. Please open an issue on GitHub for any issues related to this experimental feature.\n",
      "  state = torch.load(\"D:\\\\Projects\\\\Priorbank\\\\Payment-logos\\\\For testing\\\\model_state.pt\")\n"
     ]
    },
    {
     "data": {
      "text/plain": [
       "<All keys matched successfully>"
      ]
     },
     "execution_count": 37,
     "metadata": {},
     "output_type": "execute_result"
    }
   ],
   "source": [
    "\"\"\" state = torch.load(\"D:\\\\Projects\\\\Priorbank\\\\Payment-logos\\\\For testing\\\\model_state.pt\")\n",
    "model.load_state_dict(state[\"state_dict\"]) \"\"\""
   ]
  },
  {
   "cell_type": "code",
   "execution_count": 77,
   "metadata": {},
   "outputs": [],
   "source": [
    "class CustomModel(nn.Module):\n",
    "    def __init__(self, model, num_labels):\n",
    "        super(CustomModel,self).__init__()\n",
    "        self.num_labels = num_labels\n",
    "        self.model = model\n",
    "        self.classifier = nn.Linear(model.config.decoder.hidden_size,num_labels)\n",
    "        \n",
    "    def forward(self, pixel_values, text=None, labels=None):\n",
    "        outputs = self.model(pixel_values=pixel_values,\n",
    "                             labels = text,\n",
    "                             output_hidden_states=True)\n",
    "        global logits\n",
    "        hidden_states = outputs.decoder_hidden_states[-1]\n",
    "        logits = self.classifier(hidden_states[:, 0, :].view(-1,self.model.config.decoder.hidden_size))\n",
    "        \n",
    "        loss=None\n",
    "        if labels is not None:\n",
    "            loss_fct = nn.BCEWithLogitsLoss()\n",
    "            loss = loss_fct(logits.view(-1, self.num_labels), labels.view(-1, self.num_labels))\n",
    "        \n",
    "        return SequenceClassifierOutput(loss=loss, logits=logits)"
   ]
  },
  {
   "cell_type": "code",
   "execution_count": 78,
   "metadata": {},
   "outputs": [],
   "source": [
    "device = torch.device(\"cuda\" if torch.cuda.is_available() else \"cpu\")\n",
    "\n",
    "model=CustomModel(TrOCR_model,NUM_CLASSES).to(device)"
   ]
  },
  {
   "cell_type": "code",
   "execution_count": 83,
   "metadata": {},
   "outputs": [],
   "source": [
    "f1 = evaluate.load(\"f1\", trust_remote_code=True)"
   ]
  },
  {
   "cell_type": "code",
   "execution_count": 88,
   "metadata": {},
   "outputs": [
    {
     "name": "stderr",
     "output_type": "stream",
     "text": [
      "c:\\Users\\playf\\AppData\\Local\\Programs\\Python\\Python312\\Lib\\site-packages\\transformers\\optimization.py:591: FutureWarning: This implementation of AdamW is deprecated and will be removed in a future version. Use the PyTorch implementation torch.optim.AdamW instead, or set `no_deprecation_warning=True` to disable this warning\n",
      "  warnings.warn(\n"
     ]
    },
    {
     "data": {
      "application/vnd.jupyter.widget-view+json": {
       "model_id": "524a9af179134d2394b1b5bc30025d7f",
       "version_major": 2,
       "version_minor": 0
      },
      "text/plain": [
       "  0%|          | 0/138 [00:00<?, ?it/s]"
      ]
     },
     "metadata": {},
     "output_type": "display_data"
    },
    {
     "ename": "KeyboardInterrupt",
     "evalue": "",
     "output_type": "error",
     "traceback": [
      "\u001b[1;31m---------------------------------------------------------------------------\u001b[0m",
      "\u001b[1;31mKeyboardInterrupt\u001b[0m                         Traceback (most recent call last)",
      "Cell \u001b[1;32mIn[88], line 13\u001b[0m\n\u001b[0;32m     11\u001b[0m    loss \u001b[38;5;241m=\u001b[39m outputs\u001b[38;5;241m.\u001b[39mloss\n\u001b[0;32m     12\u001b[0m    loss\u001b[38;5;241m.\u001b[39mbackward()\n\u001b[1;32m---> 13\u001b[0m    \u001b[43moptimizer\u001b[49m\u001b[38;5;241;43m.\u001b[39;49m\u001b[43mstep\u001b[49m\u001b[43m(\u001b[49m\u001b[43m)\u001b[49m\n\u001b[0;32m     14\u001b[0m    optimizer\u001b[38;5;241m.\u001b[39mzero_grad()\n\u001b[0;32m     16\u001b[0m model\u001b[38;5;241m.\u001b[39meval()\n",
      "File \u001b[1;32mc:\\Users\\playf\\AppData\\Local\\Programs\\Python\\Python312\\Lib\\site-packages\\torch\\optim\\optimizer.py:484\u001b[0m, in \u001b[0;36mOptimizer.profile_hook_step.<locals>.wrapper\u001b[1;34m(*args, **kwargs)\u001b[0m\n\u001b[0;32m    479\u001b[0m         \u001b[38;5;28;01melse\u001b[39;00m:\n\u001b[0;32m    480\u001b[0m             \u001b[38;5;28;01mraise\u001b[39;00m \u001b[38;5;167;01mRuntimeError\u001b[39;00m(\n\u001b[0;32m    481\u001b[0m                 \u001b[38;5;124mf\u001b[39m\u001b[38;5;124m\"\u001b[39m\u001b[38;5;132;01m{\u001b[39;00mfunc\u001b[38;5;132;01m}\u001b[39;00m\u001b[38;5;124m must return None or a tuple of (new_args, new_kwargs), but got \u001b[39m\u001b[38;5;132;01m{\u001b[39;00mresult\u001b[38;5;132;01m}\u001b[39;00m\u001b[38;5;124m.\u001b[39m\u001b[38;5;124m\"\u001b[39m\n\u001b[0;32m    482\u001b[0m             )\n\u001b[1;32m--> 484\u001b[0m out \u001b[38;5;241m=\u001b[39m \u001b[43mfunc\u001b[49m\u001b[43m(\u001b[49m\u001b[38;5;241;43m*\u001b[39;49m\u001b[43margs\u001b[49m\u001b[43m,\u001b[49m\u001b[43m \u001b[49m\u001b[38;5;241;43m*\u001b[39;49m\u001b[38;5;241;43m*\u001b[39;49m\u001b[43mkwargs\u001b[49m\u001b[43m)\u001b[49m\n\u001b[0;32m    485\u001b[0m \u001b[38;5;28mself\u001b[39m\u001b[38;5;241m.\u001b[39m_optimizer_step_code()\n\u001b[0;32m    487\u001b[0m \u001b[38;5;66;03m# call optimizer step post hooks\u001b[39;00m\n",
      "File \u001b[1;32mc:\\Users\\playf\\AppData\\Local\\Programs\\Python\\Python312\\Lib\\site-packages\\torch\\utils\\_contextlib.py:116\u001b[0m, in \u001b[0;36mcontext_decorator.<locals>.decorate_context\u001b[1;34m(*args, **kwargs)\u001b[0m\n\u001b[0;32m    113\u001b[0m \u001b[38;5;129m@functools\u001b[39m\u001b[38;5;241m.\u001b[39mwraps(func)\n\u001b[0;32m    114\u001b[0m \u001b[38;5;28;01mdef\u001b[39;00m \u001b[38;5;21mdecorate_context\u001b[39m(\u001b[38;5;241m*\u001b[39margs, \u001b[38;5;241m*\u001b[39m\u001b[38;5;241m*\u001b[39mkwargs):\n\u001b[0;32m    115\u001b[0m     \u001b[38;5;28;01mwith\u001b[39;00m ctx_factory():\n\u001b[1;32m--> 116\u001b[0m         \u001b[38;5;28;01mreturn\u001b[39;00m \u001b[43mfunc\u001b[49m\u001b[43m(\u001b[49m\u001b[38;5;241;43m*\u001b[39;49m\u001b[43margs\u001b[49m\u001b[43m,\u001b[49m\u001b[43m \u001b[49m\u001b[38;5;241;43m*\u001b[39;49m\u001b[38;5;241;43m*\u001b[39;49m\u001b[43mkwargs\u001b[49m\u001b[43m)\u001b[49m\n",
      "File \u001b[1;32mc:\\Users\\playf\\AppData\\Local\\Programs\\Python\\Python312\\Lib\\site-packages\\transformers\\optimization.py:648\u001b[0m, in \u001b[0;36mAdamW.step\u001b[1;34m(self, closure)\u001b[0m\n\u001b[0;32m    646\u001b[0m exp_avg\u001b[38;5;241m.\u001b[39mmul_(beta1)\u001b[38;5;241m.\u001b[39madd_(grad, alpha\u001b[38;5;241m=\u001b[39m(\u001b[38;5;241m1.0\u001b[39m \u001b[38;5;241m-\u001b[39m beta1))\n\u001b[0;32m    647\u001b[0m exp_avg_sq\u001b[38;5;241m.\u001b[39mmul_(beta2)\u001b[38;5;241m.\u001b[39maddcmul_(grad, grad, value\u001b[38;5;241m=\u001b[39m\u001b[38;5;241m1.0\u001b[39m \u001b[38;5;241m-\u001b[39m beta2)\n\u001b[1;32m--> 648\u001b[0m denom \u001b[38;5;241m=\u001b[39m \u001b[43mexp_avg_sq\u001b[49m\u001b[38;5;241;43m.\u001b[39;49m\u001b[43msqrt\u001b[49m\u001b[43m(\u001b[49m\u001b[43m)\u001b[49m\u001b[38;5;241;43m.\u001b[39;49m\u001b[43madd_\u001b[49m\u001b[43m(\u001b[49m\u001b[43mgroup\u001b[49m\u001b[43m[\u001b[49m\u001b[38;5;124;43m\"\u001b[39;49m\u001b[38;5;124;43meps\u001b[39;49m\u001b[38;5;124;43m\"\u001b[39;49m\u001b[43m]\u001b[49m\u001b[43m)\u001b[49m\n\u001b[0;32m    650\u001b[0m step_size \u001b[38;5;241m=\u001b[39m group[\u001b[38;5;124m\"\u001b[39m\u001b[38;5;124mlr\u001b[39m\u001b[38;5;124m\"\u001b[39m]\n\u001b[0;32m    651\u001b[0m \u001b[38;5;28;01mif\u001b[39;00m group[\u001b[38;5;124m\"\u001b[39m\u001b[38;5;124mcorrect_bias\u001b[39m\u001b[38;5;124m\"\u001b[39m]:  \u001b[38;5;66;03m# No bias correction for Bert\u001b[39;00m\n",
      "\u001b[1;31mKeyboardInterrupt\u001b[0m: "
     ]
    }
   ],
   "source": [
    "optimizer = AdamW(model.parameters(), lr=1e-4)\n",
    "#optimizer.load_state_dict(state[\"optimizer\"])\n",
    "preds = []\n",
    "\n",
    "for epoch in range(2):\n",
    "   model.train()\n",
    "   for batch in tqdm(train_dataloader):\n",
    "      for k,v in batch.items():\n",
    "        batch[k] = v.to(device)\n",
    "\n",
    "      outputs = model(**batch)\n",
    "      loss = outputs.loss\n",
    "      loss.backward()\n",
    "      optimizer.step()\n",
    "      optimizer.zero_grad()\n",
    "\n",
    "   model.eval()\n",
    "   with torch.no_grad():\n",
    "     for batch in tqdm(eval_dataloader):\n",
    "       outputs = model(batch[\"pixel_values\"].to(device))\n",
    "\n",
    "       logits = outputs.logits\n",
    "       activation = torch.sigmoid(logits)\n",
    "       predictions = (activation >= 0.5).float()\n",
    "       preds.append(predictions)\n",
    "       for indx in range(activation.shape[0]):\n",
    "         f1.add_batch(predictions=predictions[indx],\n",
    "                      references=batch[\"labels\"][indx])\n",
    "         \n",
    "print(f1.compute(average='binary'))"
   ]
  },
  {
   "cell_type": "code",
   "execution_count": 19,
   "metadata": {},
   "outputs": [
    {
     "data": {
      "application/vnd.jupyter.widget-view+json": {
       "model_id": "60dceb004de54a179b3d6ad12f5ec26c",
       "version_major": 2,
       "version_minor": 0
      },
      "text/plain": [
       "  0%|          | 0/31 [00:00<?, ?it/s]"
      ]
     },
     "metadata": {},
     "output_type": "display_data"
    },
    {
     "name": "stdout",
     "output_type": "stream",
     "text": [
      "Prediction: ['Belkart', 'Belkart', 'Belkart', 'Belkart', 'Belkart', 'Belkart', 'Belkart', 'Belkart', 'Belkart', 'Belkart']\n",
      "True: ['Visa Mastercard Mir', 'Visa Mastercard Mir', 'Visa Mastercard Mir', 'Visa Mastercard Mir', 'Visa Mastercard Mir', 'Visa Mastercard Mir', 'Visa Mastercard Mir', 'Visa Mastercard Mir', 'Visa Mastercard Mir', 'Visa Mastercard Mir']\n",
      "0.8421052631578947\n",
      "Prediction: ['Belkart', 'Belkart', 'Belkart', 'Belkart', 'Belkart', 'Belkart', 'Belkart', 'Belkart', 'Belkart', 'Belkart']\n",
      "True: ['Visa Mastercard Mir', 'Visa Mastercard Mir', 'Visa Mastercard Mir', 'Visa Mastercard Mir', 'Visa Mastercard Mir', 'Visa Mastercard Mir', 'Visa Mastercard Mir', 'Visa Mastercard Mir', 'Visa Mastercard Mir', 'Visa Mastercard Mir']\n",
      "0.8421052631578947\n",
      "Prediction: ['Belkart', 'Belkart', 'Belkart', 'Belkart', 'Belkart', 'Belkart', 'Belkart', 'Belkart', 'Belkart', 'Belkart']\n",
      "True: ['Visa Mastercard Mir', 'Visa Mastercard Mir', 'Visa Mastercard Mir', 'Visa Mastercard Mir', 'Visa Mastercard Mir', 'Visa Mastercard Mir', 'Visa Mastercard Mir', 'Visa Mastercard Mir', 'Visa Mastercard Mir', 'Visa Mastercard Mir']\n",
      "0.8421052631578947\n",
      "Prediction: ['Belkart', 'Belkart', 'Belkart', 'Belkart', 'Belkart', 'Belkart', 'Belkart', 'Belkart', 'Belkart', 'Belkart']\n",
      "True: ['Visa Mastercard Mir', 'Visa Mastercard Mir', 'Visa Mastercard Mir', 'Visa Mastercard Mir', 'Visa Mastercard Mir', 'Visa Mastercard Mir', 'Visa Mastercard Mir', 'Visa Mastercard Mir', 'Visa Mastercard Mir', 'Visa Mastercard Mir']\n",
      "0.8421052631578947\n",
      "Prediction: ['Belkart', 'Belkart', 'Belkart', 'Belkart', 'Belkart', 'Belkart', 'Belkart', 'Belkart', 'Belkart', 'Belkart']\n",
      "True: ['Visa Mastercard Mir', 'Visa Mastercard Mir', 'Visa Mastercard Mir', 'Visa Mastercard Mir', 'Visa Mastercard Mir', 'Visa Mastercard Mir', 'Visa Mastercard Mir', 'Visa Mastercard Mir', 'Visa Mastercard Mir', 'Visa Mastercard Mir']\n",
      "0.8421052631578947\n",
      "Prediction: ['Belkart', 'Belkart', 'Belkart', 'Belkart', 'Belkart', 'Belkart', 'Belkart', 'Belkart', 'Belkart', 'Belkart']\n",
      "True: ['Visa Mastercard Mir', 'Visa Mastercard Mir', 'Visa Mastercard Mir', 'Visa Mastercard Mir', 'Visa Mastercard Mir', 'Visa Mastercard Mir', 'Visa Mastercard Mir', 'Visa Mastercard Mir', 'Visa Mastercard Mir', 'Visa Mastercard Mir']\n",
      "0.8421052631578947\n",
      "Prediction: ['Belkart', 'Belkart', 'Belkart', 'Belkart', 'Belkart', 'Belkart', 'Belkart', 'Belkart', 'Belkart', 'Belkart']\n",
      "True: ['Visa Mastercard Mir', 'Visa Mastercard Mir', 'Visa Mastercard Mir', 'Visa Mastercard Mir', 'Visa Mastercard Mir', 'Visa Mastercard Mir', 'Visa Mastercard Mir', 'Visa Mastercard Mir', 'Visa Mastercard Mir', 'Visa Mastercard Mir']\n",
      "0.8421052631578947\n",
      "Prediction: ['Belkart', 'Belkart', 'Belkart', 'Belkart', 'Belkart', 'Belkart', 'Belkart', 'Belkart', 'Belkart', 'Belkart']\n",
      "True: ['Visa Mastercard Mir', 'Visa Mastercard Mir', 'Visa Mastercard Mir', 'Visa Mastercard Mir', 'Visa Mastercard Mir', 'Visa Mastercard Mir', 'Visa Mastercard Mir', 'Visa Mastercard Mir', 'Visa Mastercard Mir', 'Visa Mastercard Mir']\n",
      "0.8421052631578947\n",
      "Prediction: ['Belkart', 'Belkart', 'Belkart', 'Belkart', 'Belkart', 'Belkart', 'Belkart', 'Belkart', 'Belkart', 'Belkart']\n",
      "True: ['Visa Mastercard Mir', 'Visa Mastercard Mir', 'Visa Mastercard Mir', 'Visa Mastercard Mir', 'Visa Mastercard Mir', 'Visa Mastercard Mir', 'Visa Mastercard Mir', 'Visa Mastercard Mir', 'Visa Mastercard Mir', 'Visa Mastercard Mir']\n",
      "0.8421052631578947\n",
      "Prediction: ['Belkart', 'Belkart', 'Belkart', 'Belkart', 'Belkart', 'Belkart', 'Belkart', 'Belkart', 'Belkart', 'Belkart']\n",
      "True: ['Visa Mastercard Mir', 'Visa Mastercard Mir', 'Visa Mastercard Mir', 'Visa Mastercard Mir', 'Visa Mastercard Mir', 'Visa Mastercard Mir', 'Visa Mastercard Mir', 'Visa Mastercard Mir', 'Visa Mastercard Mir', 'Visa Mastercard Mir']\n",
      "0.8421052631578947\n",
      "Prediction: ['Belkart', 'Visa Mastercard Bel', 'Visa Mastercard Bel', 'Visa Mastercard Bel', 'Visa Mastercard Bel', 'Visa Mastercard Bel', 'Visa Mastercard Bel', 'Visa Mastercard Bel', 'Visa Mastercard Bel', 'Visa Mastercard Bel']\n",
      "True: ['Visa Mastercard Mir', 'Visa Mastercard', 'Visa Mastercard', 'Visa Mastercard', 'Visa Mastercard', 'Visa Mastercard', 'Visa Mastercard', 'Visa Mastercard', 'Visa Mastercard', 'Visa Mastercard']\n",
      "0.33766233766233766\n",
      "Prediction: ['Visa Mastercard Bel', 'Visa Mastercard Bel', 'Visa Mastercard Bel', 'Visa Mastercard Bel', 'Visa Mastercard Bel', 'Visa Mastercard Bel', 'Visa Mastercard Bel', 'Visa Mastercard Bel', 'Visa Mastercard Bel', 'Visa Mastercard Bel']\n",
      "True: ['Visa Mastercard', 'Visa Mastercard', 'Visa Mastercard', 'Visa Mastercard', 'Visa Mastercard', 'Visa Mastercard', 'Visa Mastercard', 'Visa Mastercard', 'Visa Mastercard', 'Visa Mastercard']\n",
      "0.26666666666666666\n",
      "Prediction: ['Visa Mastercard Bel', 'Visa Mastercard Bel', 'Visa Mastercard Bel', 'Visa Mastercard Bel', 'Visa Mastercard Bel', 'Visa Mastercard Bel', 'Visa Mastercard Bel', 'Visa Mastercard Bel', 'Visa Mastercard Bel', 'Visa Mastercard Bel']\n",
      "True: ['Visa Mastercard', 'Visa Mastercard', 'Visa Mastercard', 'Visa Mastercard', 'Visa Mastercard', 'Visa Mastercard', 'Visa Mastercard', 'Visa Mastercard', 'Visa Mastercard', 'Visa Mastercard']\n",
      "0.26666666666666666\n",
      "Prediction: ['Visa Mastercard Bel', 'Visa Mastercard Bel', 'Visa Mastercard Bel', 'Visa Mastercard Bel', 'Visa Mastercard Bel', 'Visa Mastercard Bel', 'Visa Mastercard Bel', 'Visa Mastercard Bel', 'Visa Mastercard Bel', 'Visa Mastercard Bel']\n",
      "True: ['Visa Mastercard', 'Visa Mastercard', 'Visa Mastercard', 'Visa Mastercard', 'Visa Mastercard', 'Visa Mastercard', 'Visa Mastercard', 'Visa Mastercard', 'Visa Mastercard', 'Visa Mastercard']\n",
      "0.26666666666666666\n",
      "Prediction: ['Visa Mastercard Bel', 'Visa Mastercard Bel', 'Visa Mastercard Bel', 'Visa Mastercard Bel', 'Visa Mastercard Bel', 'Visa Mastercard Bel', 'Visa Mastercard Bel', 'Visa Mastercard Bel', 'Visa Mastercard Bel', 'Visa Mastercard Bel']\n",
      "True: ['Visa Mastercard', 'Visa Mastercard', 'Visa Mastercard', 'Visa Mastercard', 'Visa Mastercard', 'Visa Mastercard', 'Visa Mastercard', 'Visa Mastercard', 'Visa Mastercard', 'Visa Mastercard']\n",
      "0.26666666666666666\n",
      "Prediction: ['Visa Mastercard Bel', 'Visa Mastercard Bel', 'Visa Mastercard Bel', 'Visa Mastercard Bel', 'Visa Mastercard Bel', 'Visa Mastercard Bel', 'Visa Mastercard Bel', 'Visa Mastercard Bel', 'Visa Mastercard Bel', 'Visa Mastercard Bel']\n",
      "True: ['Visa Mastercard', 'Visa Mastercard', 'Visa Mastercard', 'Visa Mastercard', 'Visa Mastercard', 'Visa Mastercard', 'Visa Mastercard', 'Visa Mastercard', 'Visa Mastercard', 'Visa Mastercard']\n",
      "0.26666666666666666\n",
      "Prediction: ['Visa Mastercard Bel', 'Visa Mastercard Bel', 'Visa Mastercard Bel', 'Visa Mastercard Bel', 'Visa Mastercard Bel', 'Visa Mastercard Bel', 'Visa Mastercard Bel', 'Visa Mastercard Bel', 'Visa Mastercard Bel', 'Visa Mastercard Bel']\n",
      "True: ['Visa Mastercard', 'Visa Mastercard', 'Visa Mastercard', 'Visa Mastercard', 'Visa Mastercard', 'Visa Mastercard', 'Visa Mastercard', 'Visa Mastercard', 'Visa Mastercard', 'Visa Mastercard']\n",
      "0.26666666666666666\n",
      "Prediction: ['Visa Mastercard Bel', 'Visa Mastercard Bel', 'Visa Mastercard Bel', 'Visa Mastercard Bel', 'Visa Mastercard Bel', 'Visa Mastercard Bel', 'Visa Mastercard Bel', 'Visa Mastercard Bel', 'Visa Mastercard Bel', 'Visa Mastercard Bel']\n",
      "True: ['Visa Mastercard', 'Visa Mastercard', 'Visa Mastercard', 'Visa Mastercard', 'Visa Mastercard', 'Visa Mastercard', 'Visa Mastercard', 'Visa Mastercard', 'Visa Mastercard', 'Visa Mastercard']\n",
      "0.26666666666666666\n",
      "Prediction: ['Visa Mastercard Bel', 'Visa Mastercard Bel', 'Visa Mastercard Bel', 'Visa Mastercard Bel', 'Visa Mastercard Bel', 'Visa Mastercard Bel', 'Visa Mastercard Bel', 'Visa Mastercard Bel', 'Visa Mastercard Bel', 'Visa Mastercard Bel']\n",
      "True: ['Visa Mastercard', 'Visa Mastercard', 'Visa Mastercard', 'Visa Mastercard', 'Visa Mastercard', 'Visa Mastercard', 'Visa Mastercard', 'Visa Mastercard', 'Visa Mastercard', 'Visa Mastercard']\n",
      "0.26666666666666666\n",
      "Prediction: ['Visa Mastercard Bel', 'Visa Mastercard Bel', 'Visa Mastercard Bel', 'Visa Mastercard Bel', 'Visa Mastercard Bel', 'Visa Mastercard Bel', 'Visa Mastercard Bel', 'Visa Mastercard Bel', 'Visa Mastercard Bel', 'Visa Mastercard Bel']\n",
      "True: ['Visa Mastercard', 'Visa Mastercard', 'Visa Mastercard', 'Visa Mastercard', 'Visa Mastercard', 'Visa Mastercard', 'Visa Mastercard', 'Visa Mastercard', 'Visa Mastercard', 'Visa Mastercard']\n",
      "0.26666666666666666\n",
      "Prediction: ['Visa Mastercard Bel', 'Mir', 'Mir', 'Mir', 'Mir', 'Mir', 'Mir', 'Mir', 'Mir', 'Mir']\n",
      "True: ['Visa Mastercard', 'Mir Belkart', 'Mir Belkart', 'Mir Belkart', 'Mir Belkart', 'Mir Belkart', 'Mir Belkart', 'Mir Belkart', 'Mir Belkart', 'Mir Belkart']\n",
      "0.6666666666666666\n",
      "Prediction: ['Mir', 'Mir', 'Mir', 'Mir', 'Mir', 'Mir', 'Mir', 'Mir', 'Mir', 'Mir']\n",
      "True: ['Mir Belkart', 'Mir Belkart', 'Mir Belkart', 'Mir Belkart', 'Mir Belkart', 'Mir Belkart', 'Mir Belkart', 'Mir Belkart', 'Mir Belkart', 'Mir Belkart']\n",
      "0.7272727272727273\n",
      "Prediction: ['Mir', 'Mir', 'Mir', 'Mir', 'Mir', 'Mir', 'Mir', 'Mir', 'Mir', 'Mir']\n",
      "True: ['Mir Belkart', 'Mir Belkart', 'Mir Belkart', 'Mir Belkart', 'Mir Belkart', 'Mir Belkart', 'Mir Belkart', 'Mir Belkart', 'Mir Belkart', 'Mir Belkart']\n",
      "0.7272727272727273\n",
      "Prediction: ['Mir', 'Mir', 'Mir', 'Mir', 'Mir', 'Mir', 'Mir', 'Mir', 'Mir', 'Mir']\n",
      "True: ['Mir Belkart', 'Mir Belkart', 'Mir Belkart', 'Mir Belkart', 'Mir Belkart', 'Mir Belkart', 'Mir Belkart', 'Mir Belkart', 'Mir Belkart', 'Mir Belkart']\n",
      "0.7272727272727273\n",
      "Prediction: ['Mir', 'Mir', 'Mir', 'Mir', 'Mir', 'Mir', 'Mir', 'Mir', 'Mir', 'Mir']\n",
      "True: ['Mir Belkart', 'Mir Belkart', 'Mir Belkart', 'Mir Belkart', 'Mir Belkart', 'Mir Belkart', 'Mir Belkart', 'Mir Belkart', 'Mir Belkart', 'Mir Belkart']\n",
      "0.7272727272727273\n",
      "Prediction: ['Mir', 'Mir', 'Mir', 'Mir', 'Mir', 'Mir', 'Mir', 'Mir', 'Mir', 'Mir']\n",
      "True: ['Mir Belkart', 'Mir Belkart', 'Mir Belkart', 'Mir Belkart', 'Mir Belkart', 'Mir Belkart', 'Mir Belkart', 'Mir Belkart', 'Mir Belkart', 'Mir Belkart']\n",
      "0.7272727272727273\n",
      "Prediction: ['Mir', 'Mir', 'Mir', 'Mir', 'Mir', 'Mir', 'Mir', 'Mir', 'Mir', 'Mir']\n",
      "True: ['Mir Belkart', 'Mir Belkart', 'Mir Belkart', 'Mir Belkart', 'Mir Belkart', 'Mir Belkart', 'Mir Belkart', 'Mir Belkart', 'Mir Belkart', 'Mir Belkart']\n",
      "0.7272727272727273\n",
      "Prediction: ['Mir', 'Mir', 'Mir', 'Mir', 'Mir', 'Mir', 'Mir', 'Mir', 'Mir', 'Mir']\n",
      "True: ['Mir Belkart', 'Mir Belkart', 'Mir Belkart', 'Mir Belkart', 'Mir Belkart', 'Mir Belkart', 'Mir Belkart', 'Mir Belkart', 'Mir Belkart', 'Mir Belkart']\n",
      "0.7272727272727273\n",
      "Prediction: ['Mir', 'Mir', 'Mir', 'Mir', 'Mir', 'Mir', 'Mir', 'Mir', 'Mir', 'Mir']\n",
      "True: ['Mir Belkart', 'Mir Belkart', 'Mir Belkart', 'Mir Belkart', 'Mir Belkart', 'Mir Belkart', 'Mir Belkart', 'Mir Belkart', 'Mir Belkart', 'Mir Belkart']\n",
      "0.7272727272727273\n",
      "Prediction: ['Mir', 'Mir', 'Mir', 'Mir', 'Mir', 'Mir', 'Mir', 'Mir', 'Mir', 'Mir']\n",
      "True: ['Mir Belkart', 'Mir Belkart', 'Mir Belkart', 'Mir Belkart', 'Mir Belkart', 'Mir Belkart', 'Mir Belkart', 'Mir Belkart', 'Mir Belkart', 'Mir Belkart']\n",
      "0.7272727272727273\n",
      "Prediction: ['Mir']\n",
      "True: ['Mir Belkart']\n",
      "0.7272727272727273\n"
     ]
    }
   ],
   "source": [
    "print(sklearn.metrics.classification_report(\n",
    "    val_df[\"labels\"],\n",
    "    preds.cpu().numpy(),\n",
    "    labels=NUM_CLASSES\n",
    "))"
   ]
  },
  {
   "cell_type": "code",
   "execution_count": 48,
   "metadata": {},
   "outputs": [],
   "source": [
    "\"\"\" state = {\n",
    "    'state_dict': model.state_dict(),\n",
    "    'optimizer': optimizer.state_dict(),\n",
    "}\n",
    "torch.save(state, \"D:\\\\Projects\\\\Priorbank\\\\Payment-logos\\\\For testing\\\\model_state.pt\") \"\"\""
   ]
  }
 ],
 "metadata": {
  "kernelspec": {
   "display_name": "Python 3",
   "language": "python",
   "name": "python3"
  },
  "language_info": {
   "codemirror_mode": {
    "name": "ipython",
    "version": 3
   },
   "file_extension": ".py",
   "mimetype": "text/x-python",
   "name": "python",
   "nbconvert_exporter": "python",
   "pygments_lexer": "ipython3",
   "version": "3.12.2"
  }
 },
 "nbformat": 4,
 "nbformat_minor": 2
}
