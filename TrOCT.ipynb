{
 "cells": [
  {
   "cell_type": "code",
   "execution_count": 1,
   "metadata": {},
   "outputs": [],
   "source": [
    "import pandas as pd\n",
    "from sklearn.model_selection import train_test_split\n",
    "from collections import Counter\n",
    "import numpy as np\n",
    "import torch\n",
    "from torch.utils.data import Dataset, DataLoader\n",
    "from transformers import TrOCRProcessor, VisionEncoderDecoderModel, AdamW\n",
    "from PIL import Image\n",
    "from tqdm.notebook import tqdm\n",
    "import evaluate"
   ]
  },
  {
   "cell_type": "code",
   "execution_count": 2,
   "metadata": {},
   "outputs": [],
   "source": [
    "TRAIN_CSV = \"D:\\\\Projects\\\\Priorbank\\\\Payment-logos\\\\For testing\\\\train_data.csv\"\n",
    "IMAGE_DIR = \"D:\\\\Projects\\\\Priorbank\\\\Payment-logos\\\\For testing\\\\Train\\\\\"\n",
    "PROCESSOR_PATH = \"microsoft/trocr-base-handwritten\"\n",
    "BATCH_SIZE = 10"
   ]
  },
  {
   "cell_type": "code",
   "execution_count": 3,
   "metadata": {},
   "outputs": [
    {
     "data": {
      "text/html": [
       "<div>\n",
       "<style scoped>\n",
       "    .dataframe tbody tr th:only-of-type {\n",
       "        vertical-align: middle;\n",
       "    }\n",
       "\n",
       "    .dataframe tbody tr th {\n",
       "        vertical-align: top;\n",
       "    }\n",
       "\n",
       "    .dataframe thead th {\n",
       "        text-align: right;\n",
       "    }\n",
       "</style>\n",
       "<table border=\"1\" class=\"dataframe\">\n",
       "  <thead>\n",
       "    <tr style=\"text-align: right;\">\n",
       "      <th></th>\n",
       "      <th>file_name</th>\n",
       "      <th>text</th>\n",
       "    </tr>\n",
       "  </thead>\n",
       "  <tbody>\n",
       "    <tr>\n",
       "      <th>0</th>\n",
       "      <td>Belkart_0.jpg</td>\n",
       "      <td>Belkart</td>\n",
       "    </tr>\n",
       "    <tr>\n",
       "      <th>1</th>\n",
       "      <td>Belkart_1.jpg</td>\n",
       "      <td>Belkart</td>\n",
       "    </tr>\n",
       "    <tr>\n",
       "      <th>2</th>\n",
       "      <td>Belkart_1_0.png</td>\n",
       "      <td>Belkart</td>\n",
       "    </tr>\n",
       "    <tr>\n",
       "      <th>3</th>\n",
       "      <td>Belkart_1_1.png</td>\n",
       "      <td>Belkart</td>\n",
       "    </tr>\n",
       "    <tr>\n",
       "      <th>4</th>\n",
       "      <td>Belkart_1_10.png</td>\n",
       "      <td>Belkart</td>\n",
       "    </tr>\n",
       "  </tbody>\n",
       "</table>\n",
       "</div>"
      ],
      "text/plain": [
       "          file_name     text\n",
       "0     Belkart_0.jpg  Belkart\n",
       "1     Belkart_1.jpg  Belkart\n",
       "2   Belkart_1_0.png  Belkart\n",
       "3   Belkart_1_1.png  Belkart\n",
       "4  Belkart_1_10.png  Belkart"
      ]
     },
     "execution_count": 3,
     "metadata": {},
     "output_type": "execute_result"
    }
   ],
   "source": [
    "df = pd.read_csv(TRAIN_CSV)\n",
    "df.head()"
   ]
  },
  {
   "cell_type": "code",
   "execution_count": 14,
   "metadata": {},
   "outputs": [
    {
     "name": "stdout",
     "output_type": "stream",
     "text": [
      "Unique values for Train: {'Belkart': 216, 'Mastercard': 102, 'Mir': 101, 'Visa Mastercard Mir': 226, 'Visa': 123, 'Visa Mastercard Belkart': 202}\n",
      "Unique values for Validation: {'Visa Mastercard Mir': 101, 'Visa Mastercard': 100, 'Mir Belkart': 100}\n"
     ]
    }
   ],
   "source": [
    "train_df = df[~df.file_name.str.startswith(\"Validation\")]\n",
    "train_df.reset_index(drop=True,inplace=True)\n",
    "\n",
    "val_df = df[df.file_name.str.startswith(\"Validation\")]\n",
    "val_df.reset_index(drop=True,inplace=True)\n",
    "\n",
    "print(\"Unique values for Train: \" + str({**Counter(train_df.text)}))\n",
    "print(\"Unique values for Validation: \" + str({**Counter(val_df.text)}))"
   ]
  },
  {
   "cell_type": "code",
   "execution_count": 4,
   "metadata": {},
   "outputs": [
    {
     "name": "stdout",
     "output_type": "stream",
     "text": [
      "Unique values for Train: {'Visa Mastercard Mir': 240, 'Visa': 99, 'Mir': 79, 'Mastercard': 83}\n",
      "Unique values for Validation: {'Visa Mastercard Mir': 61, 'Mir': 22, 'Mastercard': 19, 'Visa': 24}\n"
     ]
    }
   ],
   "source": [
    "\"\"\" np.random.seed(11)\n",
    "\n",
    "train_df, val_df = train_test_split(df, test_size=0.2, shuffle=True)\n",
    "train_df.reset_index(drop=True,inplace=True)\n",
    "val_df.reset_index(drop=True,inplace=True)\n",
    "\n",
    "print(\"Unique values for Train: \" + str({**Counter(train_df.text)}))\n",
    "print(\"Unique values for Validation: \" + str({**Counter(val_df.text)})) \"\"\""
   ]
  },
  {
   "cell_type": "code",
   "execution_count": 6,
   "metadata": {},
   "outputs": [],
   "source": [
    "class Loader(Dataset):\n",
    "    def __init__(self, data_dir, df, processor, max_length=10):\n",
    "        super().__init__()\n",
    "        self.data_dir = data_dir\n",
    "        self.df = df\n",
    "        self.max_length = max_length\n",
    "        self.processor = processor\n",
    "\n",
    "    def __len__(self):\n",
    "        return len(self.df)\n",
    "\n",
    "    def __getitem__(self, index):\n",
    "        file_name = self.df[\"file_name\"][index]\n",
    "        text = self.df[\"text\"][index]\n",
    "        image = Image.open(self.data_dir + file_name).convert(\"RGB\")\n",
    "        pixel_values = self.processor(image, return_tensors=\"pt\").pixel_values\n",
    "        labels = self.processor.tokenizer(text,\n",
    "                                          padding=\"max_length\",\n",
    "                                          max_length=self.max_length).input_ids\n",
    "        labels = [label if label != self.processor.tokenizer.pad_token_id else -100 for label in labels]\n",
    "        \n",
    "        return {\"pixel_values\": pixel_values.squeeze(), \"labels\": torch.tensor(labels)}"
   ]
  },
  {
   "cell_type": "code",
   "execution_count": 7,
   "metadata": {},
   "outputs": [
    {
     "name": "stderr",
     "output_type": "stream",
     "text": [
      "c:\\Users\\playf\\AppData\\Local\\Programs\\Python\\Python312\\Lib\\site-packages\\transformers\\tokenization_utils_base.py:1601: FutureWarning: `clean_up_tokenization_spaces` was not set. It will be set to `True` by default. This behavior will be depracted in transformers v4.45, and will be then set to `False` by default. For more details check this issue: https://github.com/huggingface/transformers/issues/31884\n",
      "  warnings.warn(\n"
     ]
    }
   ],
   "source": [
    "processor = TrOCRProcessor.from_pretrained(PROCESSOR_PATH)\n",
    "\n",
    "train_dataset = Loader(data_dir=IMAGE_DIR, df=train_df,\n",
    "                       processor=processor)\n",
    "val_dataset = Loader(data_dir=IMAGE_DIR, df=val_df,\n",
    "                      processor=processor)"
   ]
  },
  {
   "cell_type": "code",
   "execution_count": 8,
   "metadata": {},
   "outputs": [],
   "source": [
    "train_dataloader = DataLoader(train_dataset, batch_size=BATCH_SIZE, shuffle=True)\n",
    "eval_dataloader = DataLoader(val_dataset, batch_size=BATCH_SIZE)"
   ]
  },
  {
   "cell_type": "code",
   "execution_count": 9,
   "metadata": {},
   "outputs": [
    {
     "name": "stderr",
     "output_type": "stream",
     "text": [
      "Some weights of VisionEncoderDecoderModel were not initialized from the model checkpoint at microsoft/trocr-base-handwritten and are newly initialized: ['encoder.pooler.dense.bias', 'encoder.pooler.dense.weight']\n",
      "You should probably TRAIN this model on a down-stream task to be able to use it for predictions and inference.\n"
     ]
    }
   ],
   "source": [
    "device = torch.device(\"cuda\" if torch.cuda.is_available() else \"cpu\")\n",
    "\n",
    "model = VisionEncoderDecoderModel.from_pretrained(PROCESSOR_PATH).to(device)"
   ]
  },
  {
   "cell_type": "code",
   "execution_count": 15,
   "metadata": {},
   "outputs": [],
   "source": [
    "model.config.encoder.encoder_stride = 30\n",
    "model.config.encoder.patch_size = 30\n",
    "model.config.decoder_start_token_id = processor.tokenizer.cls_token_id\n",
    "model.config.pad_token_id = processor.tokenizer.pad_token_id\n",
    "model.config.vocab_size = model.config.decoder.vocab_size\n",
    "\n",
    "model.config.eos_token_id = processor.tokenizer.sep_token_id\n",
    "model.config.max_length = 64\n",
    "model.config.early_stopping = True\n",
    "model.config.no_repeat_ngram_size = 3\n",
    "model.config.length_penalty = 2.0\n",
    "model.config.num_beams = 4"
   ]
  },
  {
   "cell_type": "code",
   "execution_count": 37,
   "metadata": {},
   "outputs": [
    {
     "name": "stderr",
     "output_type": "stream",
     "text": [
      "C:\\Users\\playf\\AppData\\Local\\Temp\\ipykernel_24704\\3455238129.py:1: FutureWarning: You are using `torch.load` with `weights_only=False` (the current default value), which uses the default pickle module implicitly. It is possible to construct malicious pickle data which will execute arbitrary code during unpickling (See https://github.com/pytorch/pytorch/blob/main/SECURITY.md#untrusted-models for more details). In a future release, the default value for `weights_only` will be flipped to `True`. This limits the functions that could be executed during unpickling. Arbitrary objects will no longer be allowed to be loaded via this mode unless they are explicitly allowlisted by the user via `torch.serialization.add_safe_globals`. We recommend you start setting `weights_only=True` for any use case where you don't have full control of the loaded file. Please open an issue on GitHub for any issues related to this experimental feature.\n",
      "  state = torch.load(\"D:\\\\Projects\\\\Priorbank\\\\Payment-logos\\\\For testing\\\\model_state.pt\")\n"
     ]
    },
    {
     "data": {
      "text/plain": [
       "<All keys matched successfully>"
      ]
     },
     "execution_count": 37,
     "metadata": {},
     "output_type": "execute_result"
    }
   ],
   "source": [
    "\"\"\" state = torch.load(\"D:\\\\Projects\\\\Priorbank\\\\Payment-logos\\\\For testing\\\\model_state.pt\")\n",
    "model.load_state_dict(state[\"state_dict\"]) \"\"\""
   ]
  },
  {
   "cell_type": "code",
   "execution_count": 11,
   "metadata": {},
   "outputs": [],
   "source": [
    "cer_metric = evaluate.load(\"cer\")\n",
    "\n",
    "def compute_cer(pred_ids, label_ids):\n",
    "    pred_str = processor.batch_decode(pred_ids, skip_special_tokens=True)\n",
    "    label_ids[label_ids == -100] = processor.tokenizer.pad_token_id\n",
    "    label_str = processor.batch_decode(label_ids, skip_special_tokens=True)\n",
    "\n",
    "    cer = cer_metric.compute(predictions=pred_str, references=label_str)\n",
    "\n",
    "    return cer"
   ]
  },
  {
   "cell_type": "code",
   "execution_count": 18,
   "metadata": {},
   "outputs": [
    {
     "data": {
      "application/vnd.jupyter.widget-view+json": {
       "model_id": "96157863f39b44208c06cfe1d2bfd835",
       "version_major": 2,
       "version_minor": 0
      },
      "text/plain": [
       "  0%|          | 0/97 [00:00<?, ?it/s]"
      ]
     },
     "metadata": {},
     "output_type": "display_data"
    },
    {
     "data": {
      "application/vnd.jupyter.widget-view+json": {
       "model_id": "89d323ff67094f9bb52564398c1535a3",
       "version_major": 2,
       "version_minor": 0
      },
      "text/plain": [
       "  0%|          | 0/31 [00:00<?, ?it/s]"
      ]
     },
     "metadata": {},
     "output_type": "display_data"
    },
    {
     "name": "stdout",
     "output_type": "stream",
     "text": [
      "Validation CER: 0.6160680293108137\n"
     ]
    },
    {
     "data": {
      "application/vnd.jupyter.widget-view+json": {
       "model_id": "52b68784ad7f4aa99d53b495073dacf0",
       "version_major": 2,
       "version_minor": 0
      },
      "text/plain": [
       "  0%|          | 0/97 [00:00<?, ?it/s]"
      ]
     },
     "metadata": {},
     "output_type": "display_data"
    },
    {
     "data": {
      "application/vnd.jupyter.widget-view+json": {
       "model_id": "22aec0fdc15d477692fb95cab928c855",
       "version_major": 2,
       "version_minor": 0
      },
      "text/plain": [
       "  0%|          | 0/31 [00:00<?, ?it/s]"
      ]
     },
     "metadata": {},
     "output_type": "display_data"
    },
    {
     "name": "stdout",
     "output_type": "stream",
     "text": [
      "Validation CER: 0.6160680293108137\n"
     ]
    }
   ],
   "source": [
    "optimizer = AdamW(model.parameters(), lr=1e-4)\n",
    "#optimizer.load_state_dict(state[\"optimizer\"])\n",
    "\n",
    "for epoch in range(2):\n",
    "   model.train()\n",
    "   for batch in tqdm(train_dataloader):\n",
    "      for k,v in batch.items():\n",
    "        batch[k] = v.to(device)\n",
    "\n",
    "      outputs = model(**batch)\n",
    "      loss = outputs.loss\n",
    "      loss.backward()\n",
    "      optimizer.step()\n",
    "      optimizer.zero_grad()\n",
    "\n",
    "   model.eval()\n",
    "   valid_cer = 0.0\n",
    "   with torch.no_grad():\n",
    "     for batch in tqdm(eval_dataloader):\n",
    "       outputs = model.generate(batch[\"pixel_values\"].to(device))\n",
    "       cer = compute_cer(pred_ids=outputs, label_ids=batch[\"labels\"])\n",
    "       valid_cer += cer \n",
    "\n",
    "   print(\"Validation CER:\", valid_cer / len(eval_dataloader))"
   ]
  },
  {
   "cell_type": "code",
   "execution_count": 19,
   "metadata": {},
   "outputs": [
    {
     "data": {
      "application/vnd.jupyter.widget-view+json": {
       "model_id": "60dceb004de54a179b3d6ad12f5ec26c",
       "version_major": 2,
       "version_minor": 0
      },
      "text/plain": [
       "  0%|          | 0/31 [00:00<?, ?it/s]"
      ]
     },
     "metadata": {},
     "output_type": "display_data"
    },
    {
     "name": "stdout",
     "output_type": "stream",
     "text": [
      "Prediction: ['Belkart', 'Belkart', 'Belkart', 'Belkart', 'Belkart', 'Belkart', 'Belkart', 'Belkart', 'Belkart', 'Belkart']\n",
      "True: ['Visa Mastercard Mir', 'Visa Mastercard Mir', 'Visa Mastercard Mir', 'Visa Mastercard Mir', 'Visa Mastercard Mir', 'Visa Mastercard Mir', 'Visa Mastercard Mir', 'Visa Mastercard Mir', 'Visa Mastercard Mir', 'Visa Mastercard Mir']\n",
      "0.8421052631578947\n",
      "Prediction: ['Belkart', 'Belkart', 'Belkart', 'Belkart', 'Belkart', 'Belkart', 'Belkart', 'Belkart', 'Belkart', 'Belkart']\n",
      "True: ['Visa Mastercard Mir', 'Visa Mastercard Mir', 'Visa Mastercard Mir', 'Visa Mastercard Mir', 'Visa Mastercard Mir', 'Visa Mastercard Mir', 'Visa Mastercard Mir', 'Visa Mastercard Mir', 'Visa Mastercard Mir', 'Visa Mastercard Mir']\n",
      "0.8421052631578947\n",
      "Prediction: ['Belkart', 'Belkart', 'Belkart', 'Belkart', 'Belkart', 'Belkart', 'Belkart', 'Belkart', 'Belkart', 'Belkart']\n",
      "True: ['Visa Mastercard Mir', 'Visa Mastercard Mir', 'Visa Mastercard Mir', 'Visa Mastercard Mir', 'Visa Mastercard Mir', 'Visa Mastercard Mir', 'Visa Mastercard Mir', 'Visa Mastercard Mir', 'Visa Mastercard Mir', 'Visa Mastercard Mir']\n",
      "0.8421052631578947\n",
      "Prediction: ['Belkart', 'Belkart', 'Belkart', 'Belkart', 'Belkart', 'Belkart', 'Belkart', 'Belkart', 'Belkart', 'Belkart']\n",
      "True: ['Visa Mastercard Mir', 'Visa Mastercard Mir', 'Visa Mastercard Mir', 'Visa Mastercard Mir', 'Visa Mastercard Mir', 'Visa Mastercard Mir', 'Visa Mastercard Mir', 'Visa Mastercard Mir', 'Visa Mastercard Mir', 'Visa Mastercard Mir']\n",
      "0.8421052631578947\n",
      "Prediction: ['Belkart', 'Belkart', 'Belkart', 'Belkart', 'Belkart', 'Belkart', 'Belkart', 'Belkart', 'Belkart', 'Belkart']\n",
      "True: ['Visa Mastercard Mir', 'Visa Mastercard Mir', 'Visa Mastercard Mir', 'Visa Mastercard Mir', 'Visa Mastercard Mir', 'Visa Mastercard Mir', 'Visa Mastercard Mir', 'Visa Mastercard Mir', 'Visa Mastercard Mir', 'Visa Mastercard Mir']\n",
      "0.8421052631578947\n",
      "Prediction: ['Belkart', 'Belkart', 'Belkart', 'Belkart', 'Belkart', 'Belkart', 'Belkart', 'Belkart', 'Belkart', 'Belkart']\n",
      "True: ['Visa Mastercard Mir', 'Visa Mastercard Mir', 'Visa Mastercard Mir', 'Visa Mastercard Mir', 'Visa Mastercard Mir', 'Visa Mastercard Mir', 'Visa Mastercard Mir', 'Visa Mastercard Mir', 'Visa Mastercard Mir', 'Visa Mastercard Mir']\n",
      "0.8421052631578947\n",
      "Prediction: ['Belkart', 'Belkart', 'Belkart', 'Belkart', 'Belkart', 'Belkart', 'Belkart', 'Belkart', 'Belkart', 'Belkart']\n",
      "True: ['Visa Mastercard Mir', 'Visa Mastercard Mir', 'Visa Mastercard Mir', 'Visa Mastercard Mir', 'Visa Mastercard Mir', 'Visa Mastercard Mir', 'Visa Mastercard Mir', 'Visa Mastercard Mir', 'Visa Mastercard Mir', 'Visa Mastercard Mir']\n",
      "0.8421052631578947\n",
      "Prediction: ['Belkart', 'Belkart', 'Belkart', 'Belkart', 'Belkart', 'Belkart', 'Belkart', 'Belkart', 'Belkart', 'Belkart']\n",
      "True: ['Visa Mastercard Mir', 'Visa Mastercard Mir', 'Visa Mastercard Mir', 'Visa Mastercard Mir', 'Visa Mastercard Mir', 'Visa Mastercard Mir', 'Visa Mastercard Mir', 'Visa Mastercard Mir', 'Visa Mastercard Mir', 'Visa Mastercard Mir']\n",
      "0.8421052631578947\n",
      "Prediction: ['Belkart', 'Belkart', 'Belkart', 'Belkart', 'Belkart', 'Belkart', 'Belkart', 'Belkart', 'Belkart', 'Belkart']\n",
      "True: ['Visa Mastercard Mir', 'Visa Mastercard Mir', 'Visa Mastercard Mir', 'Visa Mastercard Mir', 'Visa Mastercard Mir', 'Visa Mastercard Mir', 'Visa Mastercard Mir', 'Visa Mastercard Mir', 'Visa Mastercard Mir', 'Visa Mastercard Mir']\n",
      "0.8421052631578947\n",
      "Prediction: ['Belkart', 'Belkart', 'Belkart', 'Belkart', 'Belkart', 'Belkart', 'Belkart', 'Belkart', 'Belkart', 'Belkart']\n",
      "True: ['Visa Mastercard Mir', 'Visa Mastercard Mir', 'Visa Mastercard Mir', 'Visa Mastercard Mir', 'Visa Mastercard Mir', 'Visa Mastercard Mir', 'Visa Mastercard Mir', 'Visa Mastercard Mir', 'Visa Mastercard Mir', 'Visa Mastercard Mir']\n",
      "0.8421052631578947\n",
      "Prediction: ['Belkart', 'Visa Mastercard Bel', 'Visa Mastercard Bel', 'Visa Mastercard Bel', 'Visa Mastercard Bel', 'Visa Mastercard Bel', 'Visa Mastercard Bel', 'Visa Mastercard Bel', 'Visa Mastercard Bel', 'Visa Mastercard Bel']\n",
      "True: ['Visa Mastercard Mir', 'Visa Mastercard', 'Visa Mastercard', 'Visa Mastercard', 'Visa Mastercard', 'Visa Mastercard', 'Visa Mastercard', 'Visa Mastercard', 'Visa Mastercard', 'Visa Mastercard']\n",
      "0.33766233766233766\n",
      "Prediction: ['Visa Mastercard Bel', 'Visa Mastercard Bel', 'Visa Mastercard Bel', 'Visa Mastercard Bel', 'Visa Mastercard Bel', 'Visa Mastercard Bel', 'Visa Mastercard Bel', 'Visa Mastercard Bel', 'Visa Mastercard Bel', 'Visa Mastercard Bel']\n",
      "True: ['Visa Mastercard', 'Visa Mastercard', 'Visa Mastercard', 'Visa Mastercard', 'Visa Mastercard', 'Visa Mastercard', 'Visa Mastercard', 'Visa Mastercard', 'Visa Mastercard', 'Visa Mastercard']\n",
      "0.26666666666666666\n",
      "Prediction: ['Visa Mastercard Bel', 'Visa Mastercard Bel', 'Visa Mastercard Bel', 'Visa Mastercard Bel', 'Visa Mastercard Bel', 'Visa Mastercard Bel', 'Visa Mastercard Bel', 'Visa Mastercard Bel', 'Visa Mastercard Bel', 'Visa Mastercard Bel']\n",
      "True: ['Visa Mastercard', 'Visa Mastercard', 'Visa Mastercard', 'Visa Mastercard', 'Visa Mastercard', 'Visa Mastercard', 'Visa Mastercard', 'Visa Mastercard', 'Visa Mastercard', 'Visa Mastercard']\n",
      "0.26666666666666666\n",
      "Prediction: ['Visa Mastercard Bel', 'Visa Mastercard Bel', 'Visa Mastercard Bel', 'Visa Mastercard Bel', 'Visa Mastercard Bel', 'Visa Mastercard Bel', 'Visa Mastercard Bel', 'Visa Mastercard Bel', 'Visa Mastercard Bel', 'Visa Mastercard Bel']\n",
      "True: ['Visa Mastercard', 'Visa Mastercard', 'Visa Mastercard', 'Visa Mastercard', 'Visa Mastercard', 'Visa Mastercard', 'Visa Mastercard', 'Visa Mastercard', 'Visa Mastercard', 'Visa Mastercard']\n",
      "0.26666666666666666\n",
      "Prediction: ['Visa Mastercard Bel', 'Visa Mastercard Bel', 'Visa Mastercard Bel', 'Visa Mastercard Bel', 'Visa Mastercard Bel', 'Visa Mastercard Bel', 'Visa Mastercard Bel', 'Visa Mastercard Bel', 'Visa Mastercard Bel', 'Visa Mastercard Bel']\n",
      "True: ['Visa Mastercard', 'Visa Mastercard', 'Visa Mastercard', 'Visa Mastercard', 'Visa Mastercard', 'Visa Mastercard', 'Visa Mastercard', 'Visa Mastercard', 'Visa Mastercard', 'Visa Mastercard']\n",
      "0.26666666666666666\n",
      "Prediction: ['Visa Mastercard Bel', 'Visa Mastercard Bel', 'Visa Mastercard Bel', 'Visa Mastercard Bel', 'Visa Mastercard Bel', 'Visa Mastercard Bel', 'Visa Mastercard Bel', 'Visa Mastercard Bel', 'Visa Mastercard Bel', 'Visa Mastercard Bel']\n",
      "True: ['Visa Mastercard', 'Visa Mastercard', 'Visa Mastercard', 'Visa Mastercard', 'Visa Mastercard', 'Visa Mastercard', 'Visa Mastercard', 'Visa Mastercard', 'Visa Mastercard', 'Visa Mastercard']\n",
      "0.26666666666666666\n",
      "Prediction: ['Visa Mastercard Bel', 'Visa Mastercard Bel', 'Visa Mastercard Bel', 'Visa Mastercard Bel', 'Visa Mastercard Bel', 'Visa Mastercard Bel', 'Visa Mastercard Bel', 'Visa Mastercard Bel', 'Visa Mastercard Bel', 'Visa Mastercard Bel']\n",
      "True: ['Visa Mastercard', 'Visa Mastercard', 'Visa Mastercard', 'Visa Mastercard', 'Visa Mastercard', 'Visa Mastercard', 'Visa Mastercard', 'Visa Mastercard', 'Visa Mastercard', 'Visa Mastercard']\n",
      "0.26666666666666666\n",
      "Prediction: ['Visa Mastercard Bel', 'Visa Mastercard Bel', 'Visa Mastercard Bel', 'Visa Mastercard Bel', 'Visa Mastercard Bel', 'Visa Mastercard Bel', 'Visa Mastercard Bel', 'Visa Mastercard Bel', 'Visa Mastercard Bel', 'Visa Mastercard Bel']\n",
      "True: ['Visa Mastercard', 'Visa Mastercard', 'Visa Mastercard', 'Visa Mastercard', 'Visa Mastercard', 'Visa Mastercard', 'Visa Mastercard', 'Visa Mastercard', 'Visa Mastercard', 'Visa Mastercard']\n",
      "0.26666666666666666\n",
      "Prediction: ['Visa Mastercard Bel', 'Visa Mastercard Bel', 'Visa Mastercard Bel', 'Visa Mastercard Bel', 'Visa Mastercard Bel', 'Visa Mastercard Bel', 'Visa Mastercard Bel', 'Visa Mastercard Bel', 'Visa Mastercard Bel', 'Visa Mastercard Bel']\n",
      "True: ['Visa Mastercard', 'Visa Mastercard', 'Visa Mastercard', 'Visa Mastercard', 'Visa Mastercard', 'Visa Mastercard', 'Visa Mastercard', 'Visa Mastercard', 'Visa Mastercard', 'Visa Mastercard']\n",
      "0.26666666666666666\n",
      "Prediction: ['Visa Mastercard Bel', 'Visa Mastercard Bel', 'Visa Mastercard Bel', 'Visa Mastercard Bel', 'Visa Mastercard Bel', 'Visa Mastercard Bel', 'Visa Mastercard Bel', 'Visa Mastercard Bel', 'Visa Mastercard Bel', 'Visa Mastercard Bel']\n",
      "True: ['Visa Mastercard', 'Visa Mastercard', 'Visa Mastercard', 'Visa Mastercard', 'Visa Mastercard', 'Visa Mastercard', 'Visa Mastercard', 'Visa Mastercard', 'Visa Mastercard', 'Visa Mastercard']\n",
      "0.26666666666666666\n",
      "Prediction: ['Visa Mastercard Bel', 'Mir', 'Mir', 'Mir', 'Mir', 'Mir', 'Mir', 'Mir', 'Mir', 'Mir']\n",
      "True: ['Visa Mastercard', 'Mir Belkart', 'Mir Belkart', 'Mir Belkart', 'Mir Belkart', 'Mir Belkart', 'Mir Belkart', 'Mir Belkart', 'Mir Belkart', 'Mir Belkart']\n",
      "0.6666666666666666\n",
      "Prediction: ['Mir', 'Mir', 'Mir', 'Mir', 'Mir', 'Mir', 'Mir', 'Mir', 'Mir', 'Mir']\n",
      "True: ['Mir Belkart', 'Mir Belkart', 'Mir Belkart', 'Mir Belkart', 'Mir Belkart', 'Mir Belkart', 'Mir Belkart', 'Mir Belkart', 'Mir Belkart', 'Mir Belkart']\n",
      "0.7272727272727273\n",
      "Prediction: ['Mir', 'Mir', 'Mir', 'Mir', 'Mir', 'Mir', 'Mir', 'Mir', 'Mir', 'Mir']\n",
      "True: ['Mir Belkart', 'Mir Belkart', 'Mir Belkart', 'Mir Belkart', 'Mir Belkart', 'Mir Belkart', 'Mir Belkart', 'Mir Belkart', 'Mir Belkart', 'Mir Belkart']\n",
      "0.7272727272727273\n",
      "Prediction: ['Mir', 'Mir', 'Mir', 'Mir', 'Mir', 'Mir', 'Mir', 'Mir', 'Mir', 'Mir']\n",
      "True: ['Mir Belkart', 'Mir Belkart', 'Mir Belkart', 'Mir Belkart', 'Mir Belkart', 'Mir Belkart', 'Mir Belkart', 'Mir Belkart', 'Mir Belkart', 'Mir Belkart']\n",
      "0.7272727272727273\n",
      "Prediction: ['Mir', 'Mir', 'Mir', 'Mir', 'Mir', 'Mir', 'Mir', 'Mir', 'Mir', 'Mir']\n",
      "True: ['Mir Belkart', 'Mir Belkart', 'Mir Belkart', 'Mir Belkart', 'Mir Belkart', 'Mir Belkart', 'Mir Belkart', 'Mir Belkart', 'Mir Belkart', 'Mir Belkart']\n",
      "0.7272727272727273\n",
      "Prediction: ['Mir', 'Mir', 'Mir', 'Mir', 'Mir', 'Mir', 'Mir', 'Mir', 'Mir', 'Mir']\n",
      "True: ['Mir Belkart', 'Mir Belkart', 'Mir Belkart', 'Mir Belkart', 'Mir Belkart', 'Mir Belkart', 'Mir Belkart', 'Mir Belkart', 'Mir Belkart', 'Mir Belkart']\n",
      "0.7272727272727273\n",
      "Prediction: ['Mir', 'Mir', 'Mir', 'Mir', 'Mir', 'Mir', 'Mir', 'Mir', 'Mir', 'Mir']\n",
      "True: ['Mir Belkart', 'Mir Belkart', 'Mir Belkart', 'Mir Belkart', 'Mir Belkart', 'Mir Belkart', 'Mir Belkart', 'Mir Belkart', 'Mir Belkart', 'Mir Belkart']\n",
      "0.7272727272727273\n",
      "Prediction: ['Mir', 'Mir', 'Mir', 'Mir', 'Mir', 'Mir', 'Mir', 'Mir', 'Mir', 'Mir']\n",
      "True: ['Mir Belkart', 'Mir Belkart', 'Mir Belkart', 'Mir Belkart', 'Mir Belkart', 'Mir Belkart', 'Mir Belkart', 'Mir Belkart', 'Mir Belkart', 'Mir Belkart']\n",
      "0.7272727272727273\n",
      "Prediction: ['Mir', 'Mir', 'Mir', 'Mir', 'Mir', 'Mir', 'Mir', 'Mir', 'Mir', 'Mir']\n",
      "True: ['Mir Belkart', 'Mir Belkart', 'Mir Belkart', 'Mir Belkart', 'Mir Belkart', 'Mir Belkart', 'Mir Belkart', 'Mir Belkart', 'Mir Belkart', 'Mir Belkart']\n",
      "0.7272727272727273\n",
      "Prediction: ['Mir', 'Mir', 'Mir', 'Mir', 'Mir', 'Mir', 'Mir', 'Mir', 'Mir', 'Mir']\n",
      "True: ['Mir Belkart', 'Mir Belkart', 'Mir Belkart', 'Mir Belkart', 'Mir Belkart', 'Mir Belkart', 'Mir Belkart', 'Mir Belkart', 'Mir Belkart', 'Mir Belkart']\n",
      "0.7272727272727273\n",
      "Prediction: ['Mir']\n",
      "True: ['Mir Belkart']\n",
      "0.7272727272727273\n"
     ]
    }
   ],
   "source": [
    "model.eval()\n",
    "with torch.no_grad():\n",
    "    for batch in tqdm(eval_dataloader):\n",
    "        outputs = model.generate(batch[\"pixel_values\"].to(device))\n",
    "        pred_str = processor.batch_decode(outputs, skip_special_tokens=True)\n",
    "        batch[\"labels\"][batch[\"labels\"] == -100] = processor.tokenizer.pad_token_id\n",
    "        label_str = processor.batch_decode(batch[\"labels\"], skip_special_tokens=True)\n",
    "        print(\"Prediction: \" + str(pred_str) + \"\\n\" + \"True: \" + str(label_str))\n",
    "        print(compute_cer(pred_ids=outputs, label_ids=batch[\"labels\"]))"
   ]
  },
  {
   "cell_type": "code",
   "execution_count": 48,
   "metadata": {},
   "outputs": [],
   "source": [
    "\"\"\" state = {\n",
    "    'state_dict': model.state_dict(),\n",
    "    'optimizer': optimizer.state_dict(),\n",
    "}\n",
    "torch.save(state, \"D:\\\\Projects\\\\Priorbank\\\\Payment-logos\\\\For testing\\\\model_state.pt\") \"\"\""
   ]
  }
 ],
 "metadata": {
  "kernelspec": {
   "display_name": "Python 3",
   "language": "python",
   "name": "python3"
  },
  "language_info": {
   "codemirror_mode": {
    "name": "ipython",
    "version": 3
   },
   "file_extension": ".py",
   "mimetype": "text/x-python",
   "name": "python",
   "nbconvert_exporter": "python",
   "pygments_lexer": "ipython3",
   "version": "3.12.2"
  }
 },
 "nbformat": 4,
 "nbformat_minor": 2
}
